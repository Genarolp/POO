{
  "nbformat": 4,
  "nbformat_minor": 0,
  "metadata": {
    "colab": {
      "provenance": []
    },
    "kernelspec": {
      "name": "python3",
      "display_name": "Python 3"
    },
    "language_info": {
      "name": "python"
    }
  },
  "cells": [
    {
      "cell_type": "code",
      "source": [
        "import itertools\n",
        "from itertools import product\n",
        "\n",
        "\n",
        "omega = set (product([1,2,3,4,5,6],repeat=2))\n",
        "omega"
      ],
      "metadata": {
        "colab": {
          "base_uri": "https://localhost:8080/"
        },
        "id": "j_ZA65JuNDaC",
        "outputId": "958eea10-7c6b-4875-fc8e-eac1d294d397"
      },
      "execution_count": null,
      "outputs": [
        {
          "output_type": "execute_result",
          "data": {
            "text/plain": [
              "{(1, 1),\n",
              " (1, 2),\n",
              " (1, 3),\n",
              " (1, 4),\n",
              " (1, 5),\n",
              " (1, 6),\n",
              " (2, 1),\n",
              " (2, 2),\n",
              " (2, 3),\n",
              " (2, 4),\n",
              " (2, 5),\n",
              " (2, 6),\n",
              " (3, 1),\n",
              " (3, 2),\n",
              " (3, 3),\n",
              " (3, 4),\n",
              " (3, 5),\n",
              " (3, 6),\n",
              " (4, 1),\n",
              " (4, 2),\n",
              " (4, 3),\n",
              " (4, 4),\n",
              " (4, 5),\n",
              " (4, 6),\n",
              " (5, 1),\n",
              " (5, 2),\n",
              " (5, 3),\n",
              " (5, 4),\n",
              " (5, 5),\n",
              " (5, 6),\n",
              " (6, 1),\n",
              " (6, 2),\n",
              " (6, 3),\n",
              " (6, 4),\n",
              " (6, 5),\n",
              " (6, 6)}"
            ]
          },
          "metadata": {},
          "execution_count": 1
        }
      ]
    },
    {
      "cell_type": "markdown",
      "source": [
        " la probabilidad de un evento , se calcula como $$\\mathbb {p}(A)=\\frac{\\#A}{\\#A}{\\#\\Omega}.$$\n",
        "\n"
      ],
      "metadata": {
        "id": "zvvWypvdLwbu"
      }
    },
    {
      "cell_type": "code",
      "execution_count": null,
      "metadata": {
        "colab": {
          "base_uri": "https://localhost:8080/"
        },
        "id": "zFiVD4GjLuQ7",
        "outputId": "41b2b042-e797-42f6-ffb9-cbd442c4210e"
      },
      "outputs": [
        {
          "output_type": "execute_result",
          "data": {
            "text/plain": [
              "{(1, 6), (2, 5), (3, 4), (4, 3), (5, 2), (6, 1)}"
            ]
          },
          "metadata": {},
          "execution_count": 2
        }
      ],
      "source": [
        "s={o for o in omega if o[0]+o[1]==7 }\n",
        "s"
      ]
    },
    {
      "cell_type": "code",
      "source": [
        "P = len(s)/len(omega)\n",
        "print (f\"La probabilidad de que la suma sea 7 es:{P} \" )"
      ],
      "metadata": {
        "colab": {
          "base_uri": "https://localhost:8080/"
        },
        "id": "zIFN9rLINVSR",
        "outputId": "7ba4e99f-867c-4023-ecff-74da01d172bc"
      },
      "execution_count": null,
      "outputs": [
        {
          "output_type": "stream",
          "name": "stdout",
          "text": [
            "La probabilidad de que la suma sea 7 es:0.16666666666666666 \n"
          ]
        }
      ]
    },
    {
      "cell_type": "code",
      "source": [
        "from fractions import Fraction\n",
        "Fraction (2,5)"
      ],
      "metadata": {
        "colab": {
          "base_uri": "https://localhost:8080/"
        },
        "id": "dKT24FdCOfFG",
        "outputId": "4547e700-2b1f-458a-e14e-f87162ad394b"
      },
      "execution_count": null,
      "outputs": [
        {
          "output_type": "execute_result",
          "data": {
            "text/plain": [
              "Fraction(2, 5)"
            ]
          },
          "metadata": {},
          "execution_count": 10
        }
      ]
    },
    {
      "cell_type": "code",
      "source": [
        "#vamos a crear una funcion para calcular probabilidades\n",
        "\n",
        "def s (n):\n",
        "  s = {o for o in omega if (o[0]+o[1])==n }\n",
        "  return s"
      ],
      "metadata": {
        "id": "kDeDYZxbOwJg"
      },
      "execution_count": null,
      "outputs": []
    },
    {
      "cell_type": "code",
      "source": [
        "s(2)"
      ],
      "metadata": {
        "colab": {
          "base_uri": "https://localhost:8080/"
        },
        "id": "rFyhORpMPWGe",
        "outputId": "c4da6a26-3cdf-4df9-8695-c00830f525d0"
      },
      "execution_count": null,
      "outputs": [
        {
          "output_type": "execute_result",
          "data": {
            "text/plain": [
              "{(1, 1)}"
            ]
          },
          "metadata": {},
          "execution_count": 13
        }
      ]
    },
    {
      "cell_type": "code",
      "source": [
        "s(3)"
      ],
      "metadata": {
        "colab": {
          "base_uri": "https://localhost:8080/"
        },
        "id": "uBgSkIoPPaqu",
        "outputId": "b5497125-cdd4-4be0-8bfe-121f16c2828a"
      },
      "execution_count": null,
      "outputs": [
        {
          "output_type": "execute_result",
          "data": {
            "text/plain": [
              "{(1, 2), (2, 1)}"
            ]
          },
          "metadata": {},
          "execution_count": 14
        }
      ]
    },
    {
      "cell_type": "code",
      "source": [
        "s(4)"
      ],
      "metadata": {
        "colab": {
          "base_uri": "https://localhost:8080/"
        },
        "id": "8Tq2IBoQPdDj",
        "outputId": "a464b020-006f-44f1-fd01-7cbf6e9e294d"
      },
      "execution_count": null,
      "outputs": [
        {
          "output_type": "execute_result",
          "data": {
            "text/plain": [
              "{(1, 3), (2, 2), (3, 1)}"
            ]
          },
          "metadata": {},
          "execution_count": 16
        }
      ]
    },
    {
      "cell_type": "code",
      "source": [
        "#vamos a crear la funcion de probabilidad\n",
        "def P(A,Omega):\n",
        "  return Fraction(len(A),len(Omega))"
      ],
      "metadata": {
        "id": "WdXCRJCwP9TL"
      },
      "execution_count": null,
      "outputs": []
    },
    {
      "cell_type": "code",
      "source": [
        "P(s(7),omega)"
      ],
      "metadata": {
        "colab": {
          "base_uri": "https://localhost:8080/"
        },
        "id": "yqu7859gQPoU",
        "outputId": "c8626872-3240-4982-e99a-704a995222f3"
      },
      "execution_count": null,
      "outputs": [
        {
          "output_type": "execute_result",
          "data": {
            "text/plain": [
              "Fraction(1, 6)"
            ]
          },
          "metadata": {},
          "execution_count": 37
        }
      ]
    },
    {
      "cell_type": "markdown",
      "source": [
        "##MATRICES Y OPERACIONES"
      ],
      "metadata": {
        "id": "chS2RHxhSEN3"
      }
    },
    {
      "cell_type": "code",
      "source": [
        "import numpy as np\n",
        "\n",
        "class Matriz:\n",
        "   def __init__(self,renglones,columnas):\n",
        "    self.renglones=renglones\n",
        "    self.columnas=columnas\n",
        "    self.coef = np.zeros((renglones,columnas))\n",
        "\n",
        "   def coeficientes(self):\n",
        "    print(f\"Ingresa los coeficientes de la matriz {self.renglones}x{self.columnas}\")\n",
        "    for i in range (self .renglones):\n",
        "      self.coef[i]=map(float,input().split)\n",
        "    def mostrar_matriz(self):\n",
        "      print(f\"La matriz es: {self.coef}\")"
      ],
      "metadata": {
        "id": "Qsoi1h_6SH_z"
      },
      "execution_count": null,
      "outputs": []
    },
    {
      "cell_type": "markdown",
      "source": [],
      "metadata": {
        "id": "HgwZQNg4Tyc5"
      }
    }
  ]
}