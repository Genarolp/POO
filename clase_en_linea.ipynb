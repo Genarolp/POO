{
  "nbformat": 4,
  "nbformat_minor": 0,
  "metadata": {
    "colab": {
      "provenance": []
    },
    "kernelspec": {
      "name": "python3",
      "display_name": "Python 3"
    },
    "language_info": {
      "name": "python"
    }
  },
  "cells": [
    {
      "cell_type": "code",
      "execution_count": 7,
      "metadata": {
        "id": "-6bJpAd3UuoS"
      },
      "outputs": [],
      "source": [
        "class figura:\n",
        "\n",
        "  def __init__(self, nombre):\n",
        "     self.nombre = nombre\n",
        "     self.area = None\n",
        "     self.perimetro = None\n",
        "\n",
        "  def calcular_area(self):\n",
        "      pass\n",
        "\n",
        "  def calcular_perimetro(self):\n",
        "      pass\n",
        "\n",
        "  def mostrarinfo(self):\n",
        "      self.calcular_area()\n",
        "      self.calcular_perimetro()\n",
        "      print(f\"Figura: {self.nombre}\")\n",
        "      print(f\"Área: {self.area}\")\n",
        "      print(f\"Perímetro: {self.perimetro}\")"
      ]
    },
    {
      "cell_type": "code",
      "source": [
        "fig = figura(\"circulo\")\n",
        "fig.mostrarinfo()"
      ],
      "metadata": {
        "colab": {
          "base_uri": "https://localhost:8080/"
        },
        "id": "ywKqeKp_XHfk",
        "outputId": "08a779b9-84e5-45ec-8c08-7546f307be15"
      },
      "execution_count": 8,
      "outputs": [
        {
          "output_type": "stream",
          "name": "stdout",
          "text": [
            "Figura: circulo\n",
            "Área: None\n",
            "Perímetro: None\n"
          ]
        }
      ]
    },
    {
      "cell_type": "code",
      "source": [
        "import math\n",
        "\n",
        "class circulo(figura):\n",
        "    def __init__(self, nombre, radio):\n",
        "       self.nombre = nombre\n",
        "       self.area = None\n",
        "       self.perimetro = None\n",
        "\n",
        "    def calcular_area(self):\n",
        "      pass\n",
        "\n",
        "    def calcular_perimetro(self):\n",
        "      pass\n",
        "\n",
        "    def mostrarinfo(self):\n",
        "      self.calcular_area()\n",
        "      self.calcular_perimetro()\n",
        "      print(f\"Figura: {self.nombre}\")\n",
        "      print(f\"Área: {self.area}\")\n",
        "      print(f\"Perímetro: {self.perimetro}\")\n",
        "\n",
        "class circulo(figura):\n",
        "    def __init__(self, nombre, radio):\n",
        "        super().__init__(nombre)\n",
        "        self.radio = radio\n",
        "\n",
        "    def calcular_area(self):\n",
        "        self.area = math.pi * self.radio ** 2\n",
        "\n",
        "    def calcular_perimetro(self):\n",
        "        self.perimetro = 2 * math.pi * self.radio\n",
        "\n",
        "class cuadrado(figura):\n",
        "    def __init__(self, nombre, lado):\n",
        "        super().__init__(nombre)\n",
        "        self.lado = lado\n",
        "        self.calcular_area()\n",
        "        self.calcular_perimetro()\n",
        "\n",
        "    def calcular_area(self):\n",
        "        self.area = self.lado ** 2\n",
        "\n",
        "    def calcular_perimetro(self):\n",
        "        self.perimetro = 4 * self.lado\n",
        "\n",
        "class triangulo(figura):\n",
        "    def __init__(self, nombre, base, altura):\n",
        "        super().__init__(nombre)\n",
        "        self.base = base\n",
        "        self.altura = altura\n",
        "    def calcular_area(self):\n",
        "        self.area = (self.base * self.altura) / 2\n",
        "\n",
        "    def calcular_perimetro(self):\n",
        "        lado1 = math.sqrt(self.base ** 2 + self.altura ** 2)"
      ],
      "metadata": {
        "id": "kap4CEQmYOvR"
      },
      "execution_count": 34,
      "outputs": []
    },
    {
      "cell_type": "code",
      "source": [
        "#circulo de radio 2\n",
        "\n",
        "radio = 2\n",
        "circulo=circulo(\"circulo\",radio 2)\n",
        "area_circulo  = circulo.calcular_area()\n",
        "perimetro_circulo = circulo.calcular_perimetro()\n",
        "print(\"Área del círculo:\", area_circulo)\n",
        "print(\"Perímetro del círculo:\", perimetro_circulo)"
      ],
      "metadata": {
        "colab": {
          "base_uri": "https://localhost:8080/",
          "height": 106
        },
        "id": "LKbu5BReaTgv",
        "outputId": "86139698-c2ab-47b3-f6d1-0e11a4c3e644"
      },
      "execution_count": 76,
      "outputs": [
        {
          "output_type": "error",
          "ename": "SyntaxError",
          "evalue": "invalid syntax. Perhaps you forgot a comma? (<ipython-input-76-20f94f3870b5>, line 4)",
          "traceback": [
            "\u001b[0;36m  File \u001b[0;32m\"<ipython-input-76-20f94f3870b5>\"\u001b[0;36m, line \u001b[0;32m4\u001b[0m\n\u001b[0;31m    circulo=circulo(\"circulo\",radio 2)\u001b[0m\n\u001b[0m                              ^\u001b[0m\n\u001b[0;31mSyntaxError\u001b[0m\u001b[0;31m:\u001b[0m invalid syntax. Perhaps you forgot a comma?\n"
          ]
        }
      ]
    },
    {
      "cell_type": "code",
      "source": [
        "#cuadrado\n",
        "lado = 4\n",
        "cuadrado = cuadrado(\"cuadrado\", lado)\n",
        "area_cuadrado = cuadrado.calcular_area()\n",
        "perimetro_cuadrado = cuadrado.calcular_perimetro()\n",
        "print(\"Área del cuadrado:\", area_cuadrado)"
      ],
      "metadata": {
        "colab": {
          "base_uri": "https://localhost:8080/",
          "height": 211
        },
        "id": "IJQNDep3cGjg",
        "outputId": "98b9dc69-9d08-435c-e430-fce526c735bb"
      },
      "execution_count": 79,
      "outputs": [
        {
          "output_type": "error",
          "ename": "TypeError",
          "evalue": "'cuadrado' object is not callable",
          "traceback": [
            "\u001b[0;31m---------------------------------------------------------------------------\u001b[0m",
            "\u001b[0;31mTypeError\u001b[0m                                 Traceback (most recent call last)",
            "\u001b[0;32m<ipython-input-79-f305c99b4664>\u001b[0m in \u001b[0;36m<cell line: 0>\u001b[0;34m()\u001b[0m\n\u001b[1;32m      1\u001b[0m \u001b[0;31m#cuadrado\u001b[0m\u001b[0;34m\u001b[0m\u001b[0;34m\u001b[0m\u001b[0m\n\u001b[1;32m      2\u001b[0m \u001b[0mlado\u001b[0m \u001b[0;34m=\u001b[0m \u001b[0;36m4\u001b[0m\u001b[0;34m\u001b[0m\u001b[0;34m\u001b[0m\u001b[0m\n\u001b[0;32m----> 3\u001b[0;31m \u001b[0mcuadrado\u001b[0m \u001b[0;34m=\u001b[0m \u001b[0mcuadrado\u001b[0m\u001b[0;34m(\u001b[0m\u001b[0;34m\"cuadrado\"\u001b[0m\u001b[0;34m,\u001b[0m \u001b[0mlado\u001b[0m\u001b[0;34m)\u001b[0m\u001b[0;34m\u001b[0m\u001b[0;34m\u001b[0m\u001b[0m\n\u001b[0m\u001b[1;32m      4\u001b[0m \u001b[0marea_cuadrado\u001b[0m \u001b[0;34m=\u001b[0m \u001b[0mcuadrado\u001b[0m\u001b[0;34m.\u001b[0m\u001b[0mcalcular_area\u001b[0m\u001b[0;34m(\u001b[0m\u001b[0;34m)\u001b[0m\u001b[0;34m\u001b[0m\u001b[0;34m\u001b[0m\u001b[0m\n\u001b[1;32m      5\u001b[0m \u001b[0mperimetro_cuadrado\u001b[0m \u001b[0;34m=\u001b[0m \u001b[0mcuadrado\u001b[0m\u001b[0;34m.\u001b[0m\u001b[0mcalcular_perimetro\u001b[0m\u001b[0;34m(\u001b[0m\u001b[0;34m)\u001b[0m\u001b[0;34m\u001b[0m\u001b[0;34m\u001b[0m\u001b[0m\n",
            "\u001b[0;31mTypeError\u001b[0m: 'cuadrado' object is not callable"
          ]
        }
      ]
    },
    {
      "cell_type": "code",
      "source": [
        "#trangulo\n",
        "base = 3\n",
        "altura = 4\n",
        "triangulo = triangulo(\"triangulo\", base, altura)\n",
        "area_triangulo = triangulo.calcular_area()\n",
        "perimetro_triangulo = triangulo.calcular_perimetro()"
      ],
      "metadata": {
        "colab": {
          "base_uri": "https://localhost:8080/",
          "height": 211
        },
        "id": "j3EAo4ibeLOf",
        "outputId": "aeb8b071-7acd-481e-ebec-f4b4f9ad943f"
      },
      "execution_count": 83,
      "outputs": [
        {
          "output_type": "error",
          "ename": "TypeError",
          "evalue": "'triangulo' object is not callable",
          "traceback": [
            "\u001b[0;31m---------------------------------------------------------------------------\u001b[0m",
            "\u001b[0;31mTypeError\u001b[0m                                 Traceback (most recent call last)",
            "\u001b[0;32m<ipython-input-83-970360070df0>\u001b[0m in \u001b[0;36m<cell line: 0>\u001b[0;34m()\u001b[0m\n\u001b[1;32m      2\u001b[0m \u001b[0mbase\u001b[0m \u001b[0;34m=\u001b[0m \u001b[0;36m3\u001b[0m\u001b[0;34m\u001b[0m\u001b[0;34m\u001b[0m\u001b[0m\n\u001b[1;32m      3\u001b[0m \u001b[0maltura\u001b[0m \u001b[0;34m=\u001b[0m \u001b[0;36m4\u001b[0m\u001b[0;34m\u001b[0m\u001b[0;34m\u001b[0m\u001b[0m\n\u001b[0;32m----> 4\u001b[0;31m \u001b[0mtriangulo\u001b[0m \u001b[0;34m=\u001b[0m \u001b[0mtriangulo\u001b[0m\u001b[0;34m(\u001b[0m\u001b[0;34m\"triangulo\"\u001b[0m\u001b[0;34m,\u001b[0m \u001b[0mbase\u001b[0m\u001b[0;34m,\u001b[0m \u001b[0maltura\u001b[0m\u001b[0;34m)\u001b[0m\u001b[0;34m\u001b[0m\u001b[0;34m\u001b[0m\u001b[0m\n\u001b[0m\u001b[1;32m      5\u001b[0m \u001b[0marea_triangulo\u001b[0m \u001b[0;34m=\u001b[0m \u001b[0mtriangulo\u001b[0m\u001b[0;34m.\u001b[0m\u001b[0mcalcular_area\u001b[0m\u001b[0;34m(\u001b[0m\u001b[0;34m)\u001b[0m\u001b[0;34m\u001b[0m\u001b[0;34m\u001b[0m\u001b[0m\n\u001b[1;32m      6\u001b[0m \u001b[0mperimetro_triangulo\u001b[0m \u001b[0;34m=\u001b[0m \u001b[0mtriangulo\u001b[0m\u001b[0;34m.\u001b[0m\u001b[0mcalcular_perimetro\u001b[0m\u001b[0;34m(\u001b[0m\u001b[0;34m)\u001b[0m\u001b[0;34m\u001b[0m\u001b[0;34m\u001b[0m\u001b[0m\n",
            "\u001b[0;31mTypeError\u001b[0m: 'triangulo' object is not callable"
          ]
        }
      ]
    },
    {
      "cell_type": "code",
      "source": [],
      "metadata": {
        "id": "Ka0fqY6qemQV"
      },
      "execution_count": null,
      "outputs": []
    }
  ]
}