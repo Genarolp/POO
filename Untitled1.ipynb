{
  "nbformat": 4,
  "nbformat_minor": 0,
  "metadata": {
    "colab": {
      "provenance": []
    },
    "kernelspec": {
      "name": "python3",
      "display_name": "Python 3"
    },
    "language_info": {
      "name": "python"
    }
  },
  "cells": [
    {
      "cell_type": "markdown",
      "source": [
        "#Algunas funciones en python\n",
        "\n",
        "\n",
        "\n",
        "1.   Input\n",
        "2.   lambda\n",
        "\n"
      ],
      "metadata": {
        "id": "tV6MgdOfl3te"
      }
    },
    {
      "cell_type": "code",
      "execution_count": 3,
      "metadata": {
        "colab": {
          "base_uri": "https://localhost:8080/"
        },
        "id": "VBZecUadk4NW",
        "outputId": "958899a0-c01a-40a1-a8b6-111d63a8ef87"
      },
      "outputs": [
        {
          "name": "stdout",
          "output_type": "stream",
          "text": [
            "¿De quien es cumpleaños? Ceci\n"
          ]
        }
      ],
      "source": [
        "ceci = input(\"¿De quien es cumpleaños? \")"
      ]
    },
    {
      "cell_type": "code",
      "source": [
        "edad = input(\"¿Cuantos años cumples? \")"
      ],
      "metadata": {
        "colab": {
          "base_uri": "https://localhost:8080/"
        },
        "id": "qH4w45vcnpkO",
        "outputId": "ae5bc23b-48c6-4846-ff98-f6fe14000f39"
      },
      "execution_count": 4,
      "outputs": [
        {
          "name": "stdout",
          "output_type": "stream",
          "text": [
            "¿Cuantos años cumples? 19\n"
          ]
        }
      ]
    },
    {
      "cell_type": "code",
      "source": [
        "print(f\"Hoy es cumple de {ceci} y cumple {edad}\")"
      ],
      "metadata": {
        "colab": {
          "base_uri": "https://localhost:8080/"
        },
        "id": "PqGWzpKgo9AR",
        "outputId": "1584075a-eb60-4579-9f07-6d68e41ac3c4"
      },
      "execution_count": 6,
      "outputs": [
        {
          "output_type": "stream",
          "name": "stdout",
          "text": [
            "Hoy es cumple de Ceci y cumple 19\n"
          ]
        }
      ]
    },
    {
      "cell_type": "markdown",
      "source": [
        "#La funcion lambda\n",
        "\n",
        "es una funcion anonima (no tiene nombre ) y sirve para crear funciones ad hoc (dentro de un solo codigo )"
      ],
      "metadata": {
        "id": "gBqFVQVZpSN5"
      }
    },
    {
      "cell_type": "code",
      "source": [
        "def cuadrado (x):\n",
        "  z = x**2\n",
        "  return z"
      ],
      "metadata": {
        "id": "RZyLKd58pgWe"
      },
      "execution_count": 8,
      "outputs": []
    },
    {
      "cell_type": "code",
      "source": [
        "cuadrado(25)"
      ],
      "metadata": {
        "colab": {
          "base_uri": "https://localhost:8080/"
        },
        "id": "bGjZImBkprfh",
        "outputId": "5e951cf6-1885-4173-e89e-2ab7affe935c"
      },
      "execution_count": 11,
      "outputs": [
        {
          "output_type": "execute_result",
          "data": {
            "text/plain": [
              "625"
            ]
          },
          "metadata": {},
          "execution_count": 11
        }
      ]
    },
    {
      "cell_type": "code",
      "source": [
        "cuad = lambda x: x**2\n",
        "cuad (2)"
      ],
      "metadata": {
        "colab": {
          "base_uri": "https://localhost:8080/"
        },
        "id": "G2a9ZV4Jp0FU",
        "outputId": "5d237587-00e2-40ca-afce-436b08b6f8bd"
      },
      "execution_count": 15,
      "outputs": [
        {
          "output_type": "execute_result",
          "data": {
            "text/plain": [
              "4"
            ]
          },
          "metadata": {},
          "execution_count": 15
        }
      ]
    },
    {
      "cell_type": "code",
      "source": [
        "operacion = lambda x,y: x**2 + x*y + 2\n",
        "operacion(2,3)"
      ],
      "metadata": {
        "colab": {
          "base_uri": "https://localhost:8080/"
        },
        "id": "Txkujkrvqo82",
        "outputId": "f36f5480-d094-44eb-f269-9d48fdbdb46e"
      },
      "execution_count": 16,
      "outputs": [
        {
          "output_type": "execute_result",
          "data": {
            "text/plain": [
              "12"
            ]
          },
          "metadata": {},
          "execution_count": 16
        }
      ]
    },
    {
      "cell_type": "code",
      "source": [
        "import math\n",
        "from math import pi,e"
      ],
      "metadata": {
        "id": "GQ5YFWojrZDf"
      },
      "execution_count": 17,
      "outputs": []
    },
    {
      "cell_type": "code",
      "source": [
        "pi,e"
      ],
      "metadata": {
        "colab": {
          "base_uri": "https://localhost:8080/"
        },
        "id": "VqdhEuFzrf7H",
        "outputId": "bec930e5-3562-435a-93f0-66c422db5f45"
      },
      "execution_count": 18,
      "outputs": [
        {
          "output_type": "execute_result",
          "data": {
            "text/plain": [
              "(3.141592653589793, 2.718281828459045)"
            ]
          },
          "metadata": {},
          "execution_count": 18
        }
      ]
    },
    {
      "cell_type": "code",
      "source": [
        "area_circulo = lambda radio: pi*radio**2\n",
        "area_circulo(1)"
      ],
      "metadata": {
        "colab": {
          "base_uri": "https://localhost:8080/"
        },
        "id": "pjDuT8F1rkTi",
        "outputId": "586f9cc1-b5e5-49f1-a41b-45e92650a792"
      },
      "execution_count": 19,
      "outputs": [
        {
          "output_type": "execute_result",
          "data": {
            "text/plain": [
              "3.141592653589793"
            ]
          },
          "metadata": {},
          "execution_count": 19
        }
      ]
    },
    {
      "cell_type": "markdown",
      "source": [
        "##La funcion map\n"
      ],
      "metadata": {
        "id": "5Q8Yjsnbr1x8"
      }
    },
    {
      "cell_type": "code",
      "source": [
        "residuo = list(map(lambda x : x%2,[i for i in range (1,101)]))\n"
      ],
      "metadata": {
        "id": "RlXzcwd1sYjB"
      },
      "execution_count": 23,
      "outputs": []
    },
    {
      "cell_type": "code",
      "source": [
        "def residuo_(x):\n",
        "  for x in range(1,101):\n",
        "    return x%2"
      ],
      "metadata": {
        "id": "dlvVpbKvu_GI"
      },
      "execution_count": 24,
      "outputs": []
    },
    {
      "cell_type": "code",
      "source": [
        "residuo_(3)"
      ],
      "metadata": {
        "colab": {
          "base_uri": "https://localhost:8080/"
        },
        "id": "TpC24c78vT7t",
        "outputId": "79c3ab2d-eb2e-4275-aab6-70b582f84996"
      },
      "execution_count": 25,
      "outputs": [
        {
          "output_type": "execute_result",
          "data": {
            "text/plain": [
              "1"
            ]
          },
          "metadata": {},
          "execution_count": 25
        }
      ]
    },
    {
      "cell_type": "code",
      "source": [
        "exponenciales = set(map(lambda x : e**x ,[i for i in range (1,10)]))\n",
        "exponenciales"
      ],
      "metadata": {
        "colab": {
          "base_uri": "https://localhost:8080/"
        },
        "id": "fg4R6bUFvksU",
        "outputId": "667c0b45-f957-416f-d0c6-6fbef81661fb"
      },
      "execution_count": 26,
      "outputs": [
        {
          "output_type": "execute_result",
          "data": {
            "text/plain": [
              "{2.718281828459045,\n",
              " 7.3890560989306495,\n",
              " 20.085536923187664,\n",
              " 54.59815003314423,\n",
              " 148.41315910257657,\n",
              " 403.428793492735,\n",
              " 1096.6331584284583,\n",
              " 2980.957987041727,\n",
              " 8103.08392757538}"
            ]
          },
          "metadata": {},
          "execution_count": 26
        }
      ]
    },
    {
      "cell_type": "code",
      "source": [
        "import itertools\n",
        "from itertools import product"
      ],
      "metadata": {
        "id": "lhw5wEIzC1Tg"
      },
      "execution_count": 1,
      "outputs": []
    },
    {
      "cell_type": "code",
      "source": [
        "omega = set (product([1,2,3,4,5,6],repeat=2))\n",
        "omega"
      ],
      "metadata": {
        "colab": {
          "base_uri": "https://localhost:8080/"
        },
        "id": "zERemglHC9yH",
        "outputId": "22f812b4-ed4a-434c-89d2-7f790eaa0073"
      },
      "execution_count": 2,
      "outputs": [
        {
          "output_type": "execute_result",
          "data": {
            "text/plain": [
              "{(1, 1),\n",
              " (1, 2),\n",
              " (1, 3),\n",
              " (1, 4),\n",
              " (1, 5),\n",
              " (1, 6),\n",
              " (2, 1),\n",
              " (2, 2),\n",
              " (2, 3),\n",
              " (2, 4),\n",
              " (2, 5),\n",
              " (2, 6),\n",
              " (3, 1),\n",
              " (3, 2),\n",
              " (3, 3),\n",
              " (3, 4),\n",
              " (3, 5),\n",
              " (3, 6),\n",
              " (4, 1),\n",
              " (4, 2),\n",
              " (4, 3),\n",
              " (4, 4),\n",
              " (4, 5),\n",
              " (4, 6),\n",
              " (5, 1),\n",
              " (5, 2),\n",
              " (5, 3),\n",
              " (5, 4),\n",
              " (5, 5),\n",
              " (5, 6),\n",
              " (6, 1),\n",
              " (6, 2),\n",
              " (6, 3),\n",
              " (6, 4),\n",
              " (6, 5),\n",
              " (6, 6)}"
            ]
          },
          "metadata": {},
          "execution_count": 2
        }
      ]
    },
    {
      "cell_type": "code",
      "source": [],
      "metadata": {
        "id": "cdZoUHYxLPPF"
      },
      "execution_count": null,
      "outputs": []
    },
    {
      "cell_type": "code",
      "source": [],
      "metadata": {
        "id": "cMNCzhEiC9dM"
      },
      "execution_count": null,
      "outputs": []
    }
  ]
}