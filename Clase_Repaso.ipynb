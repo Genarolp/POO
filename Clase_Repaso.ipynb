{
  "nbformat": 4,
  "nbformat_minor": 0,
  "metadata": {
    "colab": {
      "provenance": []
    },
    "kernelspec": {
      "name": "python3",
      "display_name": "Python 3"
    },
    "language_info": {
      "name": "python"
    }
  },
  "cells": [
    {
      "cell_type": "code",
      "execution_count": 1,
      "metadata": {
        "colab": {
          "base_uri": "https://localhost:8080/"
        },
        "id": "LpgHZeDF4gAS",
        "outputId": "95d12a5f-c242-4614-cbca-162dcc5e4760"
      },
      "outputs": [
        {
          "output_type": "stream",
          "name": "stdout",
          "text": [
            "Hola mundo\n"
          ]
        }
      ],
      "source": [
        "print (\"Hola mundo\")"
      ]
    },
    {
      "cell_type": "code",
      "source": [
        "g = (4*2)\n",
        "g"
      ],
      "metadata": {
        "colab": {
          "base_uri": "https://localhost:8080/"
        },
        "id": "wRKknyXi4vNk",
        "outputId": "1d12d174-6e3c-4e10-d299-a66fe0396596"
      },
      "execution_count": 2,
      "outputs": [
        {
          "output_type": "execute_result",
          "data": {
            "text/plain": [
              "8"
            ]
          },
          "metadata": {},
          "execution_count": 2
        }
      ]
    },
    {
      "cell_type": "code",
      "source": [
        "num =float (input(\"Ingrese un numero: \"))\n",
        "print (\"El doble  es: \", num*2)"
      ],
      "metadata": {
        "colab": {
          "base_uri": "https://localhost:8080/"
        },
        "id": "gbfvBaz15AKw",
        "outputId": "6dabeec4-ac63-4724-b429-bc3e83b1b7c7"
      },
      "execution_count": 26,
      "outputs": [
        {
          "output_type": "stream",
          "name": "stdout",
          "text": [
            "Ingrese un numero: 4\n",
            "El doble  es:  8.0\n"
          ]
        }
      ]
    },
    {
      "cell_type": "code",
      "source": [
        "num1=float(input(\"Ingrese un numero: \"))\n",
        "num2=float(input(\"Ingrese otro numero: \"))\n",
        "print (\"La suma es: \", num1+num2)"
      ],
      "metadata": {
        "colab": {
          "base_uri": "https://localhost:8080/"
        },
        "id": "ORmbkqWc8T-I",
        "outputId": "85e1eb1b-312b-4ac5-e8eb-835a6427a210"
      },
      "execution_count": 27,
      "outputs": [
        {
          "output_type": "stream",
          "name": "stdout",
          "text": [
            "Ingrese un numero: 5\n",
            "Ingrese otro numero: 5\n",
            "La suma es:  10.0\n"
          ]
        }
      ]
    },
    {
      "cell_type": "code",
      "source": [
        "Lista =[1,2,4,5,6]\n",
        "print(\"El primer numero es :\", Lista[0])\n",
        "print (\"El ultimo numero es: \", Lista[4])"
      ],
      "metadata": {
        "colab": {
          "base_uri": "https://localhost:8080/"
        },
        "id": "8RH5CW_o8d6w",
        "outputId": "27744a8f-2bb8-4d6f-88ea-ec7cbc889cc9"
      },
      "execution_count": 28,
      "outputs": [
        {
          "output_type": "stream",
          "name": "stdout",
          "text": [
            "El primer numero es : 1\n",
            "El ultimo numero es:  6\n"
          ]
        }
      ]
    },
    {
      "cell_type": "code",
      "source": [
        "n = int (input(\"Ingrese un numero: \"))\n",
        "if n%2==0:\n",
        "    print (\"El numero es par\")\n",
        "else:\n",
        "    print (\"El numero es impar\")"
      ],
      "metadata": {
        "colab": {
          "base_uri": "https://localhost:8080/"
        },
        "id": "uoN0c5YJ9HSV",
        "outputId": "00949d86-e895-403c-bac0-1e1c1e57dd4b"
      },
      "execution_count": 40,
      "outputs": [
        {
          "output_type": "stream",
          "name": "stdout",
          "text": [
            "Ingrese un numero: 4\n",
            "El numero es par\n"
          ]
        }
      ]
    },
    {
      "cell_type": "code",
      "source": [
        "for i in range (1,11):\n",
        "    print (i)"
      ],
      "metadata": {
        "colab": {
          "base_uri": "https://localhost:8080/"
        },
        "id": "qRgV-00e955o",
        "outputId": "9e5eeedd-3362-431c-b3bc-5660a61ceba9"
      },
      "execution_count": 42,
      "outputs": [
        {
          "output_type": "stream",
          "name": "stdout",
          "text": [
            "1\n",
            "2\n",
            "3\n",
            "4\n",
            "5\n",
            "6\n",
            "7\n",
            "8\n",
            "9\n",
            "10\n"
          ]
        }
      ]
    },
    {
      "cell_type": "code",
      "source": [
        "print (\"suma de numeros del 1 a 100 es :\" , sum (range (1,101)))"
      ],
      "metadata": {
        "colab": {
          "base_uri": "https://localhost:8080/"
        },
        "id": "82SBb6gF-MRw",
        "outputId": "9bb52031-09ea-4da3-f69b-0addac75a904"
      },
      "execution_count": 55,
      "outputs": [
        {
          "output_type": "stream",
          "name": "stdout",
          "text": [
            "suma de numeros del 1 a 100 es : 5050\n"
          ]
        }
      ]
    },
    {
      "cell_type": "code",
      "source": [
        "ñ=int(input(\"Ingrese un numero: \"))\n",
        "print(\"el cuadrado de su numero es :\",ñ**2)"
      ],
      "metadata": {
        "colab": {
          "base_uri": "https://localhost:8080/"
        },
        "id": "Z_KSzXQ3ATlX",
        "outputId": "f354891e-2528-493b-95bf-98402784db8b"
      },
      "execution_count": 62,
      "outputs": [
        {
          "output_type": "stream",
          "name": "stdout",
          "text": [
            "Ingrese un numero: 5\n",
            "el cuadrado de su numero es : 25\n"
          ]
        }
      ]
    },
    {
      "cell_type": "code",
      "source": [
        "texto = input(\"Ingrese un texto: \")\n",
        "vocales = \"aeiouAEIOU\"\n",
        "contador = sum (1 for letra in texto if letra in vocales)\n",
        "print (\"el numero de vocales es: \", contador)"
      ],
      "metadata": {
        "colab": {
          "base_uri": "https://localhost:8080/"
        },
        "id": "nJ7Gr1tIBuS2",
        "outputId": "58ee5f9f-54b9-4e1f-ffd4-7140d5ff3c1a"
      },
      "execution_count": 66,
      "outputs": [
        {
          "output_type": "stream",
          "name": "stdout",
          "text": [
            "Ingrese un texto: hola como estas \n",
            "el numero de vocales es:  6\n"
          ]
        }
      ]
    },
    {
      "cell_type": "code",
      "source": [
        "lista = [1,2,3,4,5,6,7,8,9,10]\n",
        "print(\"los numeros pares son: \")\n",
        "for num in lista:\n",
        "    if num % 2 == 0:\n",
        "        print(num)"
      ],
      "metadata": {
        "colab": {
          "base_uri": "https://localhost:8080/"
        },
        "id": "Btr73ayHE107",
        "outputId": "818b3403-c576-4c0f-e5f3-e2d2e9e6d145"
      },
      "execution_count": 67,
      "outputs": [
        {
          "output_type": "stream",
          "name": "stdout",
          "text": [
            "los numeros pares son: \n",
            "2\n",
            "4\n",
            "6\n",
            "8\n",
            "10\n"
          ]
        }
      ]
    },
    {
      "cell_type": "code",
      "source": [
        "edades = { \"Genaro\":18,\"Natalia\":18,\"Jon\":19}\n",
        "nombre = input (\"ingrese su nombre: \")\n",
        "print (\"Edad de \", nombre, \":\", edades.get(nombre, \"No se encontro la edad\"))"
      ],
      "metadata": {
        "colab": {
          "base_uri": "https://localhost:8080/"
        },
        "id": "ttOpmFTGHMsO",
        "outputId": "90a2ade8-a51c-4054-b800-55c8ce49188a"
      },
      "execution_count": 68,
      "outputs": [
        {
          "output_type": "stream",
          "name": "stdout",
          "text": [
            "ingrese su nombre: Genaro\n",
            "Edad de  Genaro : 18\n"
          ]
        }
      ]
    },
    {
      "cell_type": "code",
      "source": [
        "numeros = [1,4,6,9,45,2]\n",
        "print (\"numero mas grande:\", max(numeros))"
      ],
      "metadata": {
        "colab": {
          "base_uri": "https://localhost:8080/"
        },
        "id": "gb4mUsqVRUW5",
        "outputId": "3d57e82b-ef7d-4554-a23d-5a2b1842bca3"
      },
      "execution_count": 69,
      "outputs": [
        {
          "output_type": "stream",
          "name": "stdout",
          "text": [
            "numero mas grande: 45\n"
          ]
        }
      ]
    },
    {
      "cell_type": "code",
      "source": [
        "lista = [1,2,3,4,5,6,7,8,9,10]\n",
        "def promedio (lista):\n",
        "  return sum(lista)/len(lista)\n",
        "print (\"el promedio es: \", promedio(lista))"
      ],
      "metadata": {
        "colab": {
          "base_uri": "https://localhost:8080/"
        },
        "id": "PuNKPBZTSXLA",
        "outputId": "38431cc9-d03e-431f-faea-ccc68615df1c"
      },
      "execution_count": 70,
      "outputs": [
        {
          "output_type": "stream",
          "name": "stdout",
          "text": [
            "el promedio es:  5.5\n"
          ]
        }
      ]
    },
    {
      "cell_type": "code",
      "source": [
        "palabra = input(\"Ingrese una palabra: \")\n",
        "palabra_invertida = palabra[::-1]\n",
        "print (\"la palabra invertida es: \", palabra_invertida)"
      ],
      "metadata": {
        "colab": {
          "base_uri": "https://localhost:8080/"
        },
        "id": "oC50-G3WS3AZ",
        "outputId": "9aebbcf8-ffbe-4fd6-d0f8-7b3d84430cf2"
      },
      "execution_count": 71,
      "outputs": [
        {
          "output_type": "stream",
          "name": "stdout",
          "text": [
            "Ingrese una palabra: anitalavalatina\n",
            "la palabra invertida es:  anitalavalatina\n"
          ]
        }
      ]
    },
    {
      "cell_type": "code",
      "source": [
        "def mayor (a,b,c):\n",
        "    if a>=b and a>=c:\n",
        "        return a\n",
        "    elif b>=a and b>=c:\n",
        "        return b\n",
        "    else:\n",
        "        return c"
      ],
      "metadata": {
        "id": "T20Afdk_TeWV"
      },
      "execution_count": 73,
      "outputs": []
    },
    {
      "cell_type": "code",
      "source": [
        "mayor(1,55,6)"
      ],
      "metadata": {
        "colab": {
          "base_uri": "https://localhost:8080/"
        },
        "id": "b2AHYmzuT2Vv",
        "outputId": "85af2014-e1ea-46eb-9e1e-c7042401f500"
      },
      "execution_count": 74,
      "outputs": [
        {
          "output_type": "execute_result",
          "data": {
            "text/plain": [
              "55"
            ]
          },
          "metadata": {},
          "execution_count": 74
        }
      ]
    },
    {
      "cell_type": "code",
      "source": [
        "num = int(input(\"Ingrese un numero: \"))\n",
        "for i in range (1,11):\n",
        "  print(f\"{num} x {i} = {num*i}\")"
      ],
      "metadata": {
        "colab": {
          "base_uri": "https://localhost:8080/"
        },
        "id": "K8QEon_HT83A",
        "outputId": "c37a6fbf-1786-4a28-8306-d15687323da5"
      },
      "execution_count": 75,
      "outputs": [
        {
          "output_type": "stream",
          "name": "stdout",
          "text": [
            "Ingrese un numero: 5\n",
            "5 x 1 = 5\n",
            "5 x 2 = 10\n",
            "5 x 3 = 15\n",
            "5 x 4 = 20\n",
            "5 x 5 = 25\n",
            "5 x 6 = 30\n",
            "5 x 7 = 35\n",
            "5 x 8 = 40\n",
            "5 x 9 = 45\n",
            "5 x 10 = 50\n"
          ]
        }
      ]
    },
    {
      "cell_type": "code",
      "source": [],
      "metadata": {
        "id": "1gvG5qJaVLg7"
      },
      "execution_count": 77,
      "outputs": []
    },
    {
      "cell_type": "code",
      "source": [],
      "metadata": {
        "id": "ez6XKflbXzwI"
      },
      "execution_count": 77,
      "outputs": []
    }
  ]
}