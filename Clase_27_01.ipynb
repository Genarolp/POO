{
  "nbformat": 4,
  "nbformat_minor": 0,
  "metadata": {
    "colab": {
      "provenance": []
    },
    "kernelspec": {
      "name": "python3",
      "display_name": "Python 3"
    },
    "language_info": {
      "name": "python"
    }
  },
  "cells": [
    {
      "cell_type": "code",
      "execution_count": 4,
      "metadata": {
        "id": "6FI2VYCFbrgm"
      },
      "outputs": [],
      "source": [
        "\n"
      ]
    },
    {
      "cell_type": "markdown",
      "source": [
        "#CONJUNTOS Y LISTAS\n",
        "\n",
        "*   Conjuntos finitos:\n",
        "$$\\{o_1, o_2, \\dots, o_n\\}$$\n",
        "-Listas finitas:\n",
        "$$[1_1, 1_2,\\dots,1_n]$$\n",
        "\n"
      ],
      "metadata": {
        "id": "HFd79dNScukH"
      }
    },
    {
      "cell_type": "markdown",
      "source": [
        "En Python ,existe la funcion `range(a , b)`donde $a,b\\geq 0$"
      ],
      "metadata": {
        "id": "VlvxhOjJehNP"
      }
    },
    {
      "cell_type": "code",
      "source": [
        "range(10)"
      ],
      "metadata": {
        "colab": {
          "base_uri": "https://localhost:8080/"
        },
        "id": "qEn3ZFV1fRh0",
        "outputId": "3ca1fbcb-f191-4b33-a863-627f867477f4"
      },
      "execution_count": 5,
      "outputs": [
        {
          "output_type": "execute_result",
          "data": {
            "text/plain": [
              "range(0, 10)"
            ]
          },
          "metadata": {},
          "execution_count": 5
        }
      ]
    },
    {
      "cell_type": "markdown",
      "source": [
        "¿Como puedo ver los elemntos de este generador de indices ?"
      ],
      "metadata": {
        "id": "SW_4-3xofl9j"
      }
    },
    {
      "cell_type": "code",
      "source": [
        "for x in range(10):\n",
        "  print(x)"
      ],
      "metadata": {
        "colab": {
          "base_uri": "https://localhost:8080/"
        },
        "id": "OpMkKaagfvCm",
        "outputId": "f77fce59-911c-4302-a780-3aca00de9930"
      },
      "execution_count": 6,
      "outputs": [
        {
          "output_type": "stream",
          "name": "stdout",
          "text": [
            "0\n",
            "1\n",
            "2\n",
            "3\n",
            "4\n",
            "5\n",
            "6\n",
            "7\n",
            "8\n",
            "9\n"
          ]
        }
      ]
    },
    {
      "cell_type": "code",
      "source": [
        "# Vamos a construir 2 conjuntos\n",
        "\n",
        "Pares = {i for i in range (21) if i%2 == 0}\n",
        "Impares = {i for i in range (21) if i%2 == 1}\n",
        "\n",
        "print(Pares)\n",
        "print(Impares)"
      ],
      "metadata": {
        "colab": {
          "base_uri": "https://localhost:8080/"
        },
        "id": "NJt0u0rnhJpv",
        "outputId": "c367c951-9803-49e7-b93c-09b557df1b00"
      },
      "execution_count": 7,
      "outputs": [
        {
          "output_type": "stream",
          "name": "stdout",
          "text": [
            "{0, 2, 4, 6, 8, 10, 12, 14, 16, 18, 20}\n",
            "{1, 3, 5, 7, 9, 11, 13, 15, 17, 19}\n"
          ]
        }
      ]
    },
    {
      "cell_type": "code",
      "source": [
        "c = {17,7,27,19,77,56,8,12,10,13,20,16}\n",
        "c,type(c)"
      ],
      "metadata": {
        "colab": {
          "base_uri": "https://localhost:8080/"
        },
        "id": "FG3AG4aUjcSX",
        "outputId": "c2fd2353-1961-46f9-ec09-35c8fa468f4e"
      },
      "execution_count": 8,
      "outputs": [
        {
          "output_type": "execute_result",
          "data": {
            "text/plain": [
              "({7, 8, 10, 12, 13, 16, 17, 19, 20, 27, 56, 77}, set)"
            ]
          },
          "metadata": {},
          "execution_count": 8
        }
      ]
    },
    {
      "cell_type": "markdown",
      "source": [
        "**Los objetos en Python tienen atributos**\n"
      ],
      "metadata": {
        "id": "a8myV0DGkIWI"
      }
    },
    {
      "cell_type": "code",
      "source": [
        "Pares.intersection(Impares) #conjunto vacio"
      ],
      "metadata": {
        "colab": {
          "base_uri": "https://localhost:8080/"
        },
        "id": "EqMzJ7NdkW2b",
        "outputId": "58bb94eb-a642-4e3b-9d3e-af0845f045cd"
      },
      "execution_count": 13,
      "outputs": [
        {
          "output_type": "execute_result",
          "data": {
            "text/plain": [
              "set()"
            ]
          },
          "metadata": {},
          "execution_count": 13
        }
      ]
    },
    {
      "cell_type": "code",
      "source": [
        "Pares.union(Impares)"
      ],
      "metadata": {
        "colab": {
          "base_uri": "https://localhost:8080/"
        },
        "id": "c-TNJruakyDI",
        "outputId": "68a60979-7e6d-42c6-ca8a-e988a222f966"
      },
      "execution_count": 14,
      "outputs": [
        {
          "output_type": "execute_result",
          "data": {
            "text/plain": [
              "{0, 1, 2, 3, 4, 5, 6, 7, 8, 9, 10, 11, 12, 13, 14, 15, 16, 17, 18, 19, 20}"
            ]
          },
          "metadata": {},
          "execution_count": 14
        }
      ]
    },
    {
      "cell_type": "code",
      "source": [
        "Impares.difference(c)"
      ],
      "metadata": {
        "colab": {
          "base_uri": "https://localhost:8080/"
        },
        "id": "Kx5TDnt8k3jY",
        "outputId": "2340bd2b-39db-4274-ebd9-c96b43a32562"
      },
      "execution_count": 15,
      "outputs": [
        {
          "output_type": "execute_result",
          "data": {
            "text/plain": [
              "{1, 3, 5, 9, 11, 15}"
            ]
          },
          "metadata": {},
          "execution_count": 15
        }
      ]
    },
    {
      "cell_type": "markdown",
      "source": [
        "## Listas"
      ],
      "metadata": {
        "id": "F3anBkQelvL8"
      }
    },
    {
      "cell_type": "code",
      "source": [
        "Lista_pares = list(Pares)\n",
        "Lista_pares"
      ],
      "metadata": {
        "colab": {
          "base_uri": "https://localhost:8080/"
        },
        "id": "swRE8Xy4l4le",
        "outputId": "f98cc667-116a-4803-a3cc-43ea28cb561b"
      },
      "execution_count": 16,
      "outputs": [
        {
          "output_type": "execute_result",
          "data": {
            "text/plain": [
              "[0, 2, 4, 6, 8, 10, 12, 14, 16, 18, 20]"
            ]
          },
          "metadata": {},
          "execution_count": 16
        }
      ]
    }
  ]
}