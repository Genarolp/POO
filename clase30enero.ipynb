{
  "nbformat": 4,
  "nbformat_minor": 0,
  "metadata": {
    "colab": {
      "provenance": []
    },
    "kernelspec": {
      "name": "python3",
      "display_name": "Python 3"
    },
    "language_info": {
      "name": "python"
    }
  },
  "cells": [
    {
      "cell_type": "code",
      "execution_count": null,
      "metadata": {
        "id": "o5hJBbXB-zmp"
      },
      "outputs": [],
      "source": []
    },
    {
      "cell_type": "markdown",
      "source": [
        "**Listas y arreglos **\n",
        "\n",
        "Si $A$ un conjunto , sea $a\\in A$"
      ],
      "metadata": {
        "id": "55tRtYRF-1sy"
      }
    },
    {
      "cell_type": "code",
      "source": [
        "#se pone print f porque es el formato para llamar a la variable\n",
        "Indices =[i for i in range(0,21)]\n",
        "print (f\"Etiquetas:{Indices}\")\n",
        "\n",
        "Multiplos_3 =[i for i in range(0,21)if i%3==0]\n",
        "print(f\"Multiplos de 3:{Multiplos_3}\")"
      ],
      "metadata": {
        "colab": {
          "base_uri": "https://localhost:8080/"
        },
        "id": "ZrbvDx9Z--nY",
        "outputId": "162064fe-0af6-42c9-dda7-04c324dafbda"
      },
      "execution_count": null,
      "outputs": [
        {
          "output_type": "stream",
          "name": "stdout",
          "text": [
            "Etiquetas:[0, 1, 2, 3, 4, 5, 6, 7, 8, 9, 10, 11, 12, 13, 14, 15, 16, 17, 18, 19, 20]\n",
            "Multiplos de 3:[0, 3, 6, 9, 12, 15, 18]\n"
          ]
        }
      ]
    },
    {
      "cell_type": "code",
      "source": [
        "Multiplos_3 =[i for i in range(0,21)if i%3==0]\n",
        "print(f\"Multiplos de 3:{Multiplos_3}\")0"
      ],
      "metadata": {
        "colab": {
          "base_uri": "https://localhost:8080/"
        },
        "id": "j_jddmcGA9lf",
        "outputId": "7580a12d-271d-4601-f04e-5f9a2438b792"
      },
      "execution_count": null,
      "outputs": [
        {
          "output_type": "stream",
          "name": "stdout",
          "text": [
            "Multiplos de 3:[0, 3, 6, 9, 12, 15, 18]\n"
          ]
        }
      ]
    },
    {
      "cell_type": "markdown",
      "source": [
        "##Ingresos\n"
      ],
      "metadata": {
        "id": "vOLin85uEvcr"
      }
    },
    {
      "cell_type": "code",
      "source": [
        "ceci =[]\n",
        "\n",
        "ceci.append(18)"
      ],
      "metadata": {
        "id": "hOqpTYgvE12C"
      },
      "execution_count": null,
      "outputs": []
    },
    {
      "cell_type": "code",
      "source": [
        "ceci.insert(1, \"violin\")"
      ],
      "metadata": {
        "id": "mxYIROdmGhPZ"
      },
      "execution_count": null,
      "outputs": []
    },
    {
      "cell_type": "code",
      "source": [
        "ceci.append(1.62)"
      ],
      "metadata": {
        "id": "cvEF9Eg6HcdZ"
      },
      "execution_count": null,
      "outputs": []
    },
    {
      "cell_type": "code",
      "source": [
        "ceci.insert(4,\"perro\")\n"
      ],
      "metadata": {
        "id": "Arxj2g7bHjBA"
      },
      "execution_count": null,
      "outputs": []
    },
    {
      "cell_type": "code",
      "source": [
        "ceci [0::3]"
      ],
      "metadata": {
        "colab": {
          "base_uri": "https://localhost:8080/"
        },
        "id": "-BXpxoorHorI",
        "outputId": "1baebadf-932c-44fe-81c5-79b8b2d36cc1"
      },
      "execution_count": null,
      "outputs": [
        {
          "output_type": "execute_result",
          "data": {
            "text/plain": [
              "[18, 1.62]"
            ]
          },
          "metadata": {},
          "execution_count": 38
        }
      ]
    },
    {
      "cell_type": "code",
      "source": [
        "Indices[0::3]"
      ],
      "metadata": {
        "colab": {
          "base_uri": "https://localhost:8080/"
        },
        "id": "JRlvMV2PIpYw",
        "outputId": "8d4ad969-ed60-4c5e-b7ec-45e8bcd47438"
      },
      "execution_count": null,
      "outputs": [
        {
          "output_type": "execute_result",
          "data": {
            "text/plain": [
              "[0, 3, 6, 9, 12, 15, 18]"
            ]
          },
          "metadata": {},
          "execution_count": 39
        }
      ]
    }
  ]
}