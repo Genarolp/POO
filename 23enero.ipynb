{
  "nbformat": 4,
  "nbformat_minor": 0,
  "metadata": {
    "colab": {
      "provenance": []
    },
    "kernelspec": {
      "name": "python3",
      "display_name": "Python 3"
    },
    "language_info": {
      "name": "python"
    }
  },
  "cells": [
    {
      "cell_type": "code",
      "execution_count": null,
      "metadata": {
        "id": "nVzeLefMqJrD"
      },
      "outputs": [],
      "source": []
    },
    {
      "cell_type": "markdown",
      "source": [
        "#Introduccion a Python\n",
        "Python es un lenguaje de programación de alto nivel, interpretado y de propósito general. Es conocido por su sintaxis simple y legible, lo que lo hace ideal tanto para principiantes como para desarrolladores experimentados. Python soporta múltiples paradigmas de programación, como la programación orientada a objetos, la programación funcional y la programación imperativa. Se utiliza en una variedad de áreas, incluyendo desarrollo web, análisis de datos, inteligencia artificial, automatización, entre otros. Gracias a su vasta comunidad y gran cantidad de bibliotecas, Python es uno de los lenguajes más populares y versátiles en la actualidad.\n",
        "## QUE VEREMOS HOY ?\n",
        "1. Objetos\n",
        "2. variables\n",
        "3. Ejemplos\n"
      ],
      "metadata": {
        "id": "b95ToMppqSB_"
      }
    },
    {
      "cell_type": "markdown",
      "source": [
        "NOTA: En este procesador se puede escribir en html y en latex. Por ejemplo, vamos a escribir la ecuacion mas hermosa\n",
        "$$e^{i\\pi}+1=0$$\n",
        "\\[\n",
        "\\begin{bmatrix}\n",
        "a & b & c \\\\\n",
        "d & e & f \\\\\n",
        "g & h & i\n",
        "\\end{bmatrix}\n",
        "\\]"
      ],
      "metadata": {
        "id": "JZyUrainuDjN"
      }
    },
    {
      "cell_type": "markdown",
      "source": [
        "### Algunos objetos en Python:\n",
        "\n",
        "1. int y float\n",
        "2. \"string\"\n",
        "3. Conjuntos y listas\n",
        "\n",
        "---\n",
        "\n",
        "**La funciòn `print` y la funcion `type` **\n",
        "\n",
        "#### Operaciones basicas en int o flat\n",
        "\n",
        "* $+, \\ -$ suma y resta\n",
        "* $*,/, **$ Multiplicacion,dividir y potenciacion\n",
        "* $\\%$ Operacion modular.\n",
        "* $//$ Division al piso\n",
        "-----\n"
      ],
      "metadata": {
        "id": "SdsiVoFS61R8"
      }
    },
    {
      "cell_type": "code",
      "source": [
        "#La funcion type nos dice el tipo de objeto\n",
        "\n",
        "type(x/y)"
      ],
      "metadata": {
        "id": "d3nTD1_iJJyX"
      },
      "execution_count": null,
      "outputs": []
    },
    {
      "cell_type": "markdown",
      "source": [
        "**Creacion de variables **\n",
        "nombre = objeto"
      ],
      "metadata": {
        "id": "5bXG9KjmFgB4"
      }
    },
    {
      "cell_type": "code",
      "source": [
        "#Operaciones\n",
        "print (f\"la suma entre {x} y {y} es {x+y}\")\n",
        "print (f\"la resta entre {x} y {y} es {x-y}\")\n",
        "print (f\"la multiplicacion entre {x} y {y} es {x*y}\")\n",
        "print (f\"la division entre {x} y {y} es {x/y}\")\n",
        "print (f\"el modulo entre {x} y {y} es {x%y}\")\n",
        "print (f\"la potencia entre {x} y {y} es {x**y}\")\n",
        "print (f\"la division al piso entre {x} y {y} es {x//y}\")"
      ],
      "metadata": {
        "colab": {
          "base_uri": "https://localhost:8080/"
        },
        "id": "yghO8Os9HCve",
        "outputId": "d2c95633-0bfc-4467-91f9-23bc2a3f89be"
      },
      "execution_count": 10,
      "outputs": [
        {
          "output_type": "stream",
          "name": "stdout",
          "text": [
            "la suma entre 7 y 3 es 10\n",
            "la resta entre 7 y 3 es 4\n",
            "la multiplicacion entre 7 y 3 es 21\n",
            "la division entre 7 y 3 es 2.3333333333333335\n",
            "el modulo entre 7 y 3 es 1\n",
            "la potencia entre 7 y 3 es 343\n",
            "la division al piso entre 7 y 3 es 2\n"
          ]
        }
      ]
    },
    {
      "cell_type": "code",
      "source": [
        "#Vamos a crear dos variables\n",
        "x = 7\n",
        "y = 3"
      ],
      "metadata": {
        "id": "FlbLHBCIF3Sa"
      },
      "execution_count": 5,
      "outputs": []
    },
    {
      "cell_type": "code",
      "source": [
        "5+2"
      ],
      "metadata": {
        "colab": {
          "base_uri": "https://localhost:8080/"
        },
        "id": "MR59oxsAE9Y3",
        "outputId": "34e7ae04-7521-49d1-b5aa-31b25dc306cd"
      },
      "execution_count": 4,
      "outputs": [
        {
          "output_type": "execute_result",
          "data": {
            "text/plain": [
              "7"
            ]
          },
          "metadata": {},
          "execution_count": 4
        }
      ]
    },
    {
      "cell_type": "code",
      "source": [
        "#vamos a imprimir  Hola mundo !\n",
        "\"hola mundo !\"\n",
        "print(\"hola mundo !\")\n",
        "print (\"Genaro\")\n",
        "#Print sirve para mostrar texto"
      ],
      "metadata": {
        "colab": {
          "base_uri": "https://localhost:8080/"
        },
        "id": "MI_R_BXA-rb2",
        "outputId": "c3aa0ac2-f1d2-418d-cc2a-bfcb1a3bbd23"
      },
      "execution_count": 3,
      "outputs": [
        {
          "output_type": "stream",
          "name": "stdout",
          "text": [
            "hola mundo !\n",
            "Genaro\n"
          ]
        }
      ]
    }
  ]
}