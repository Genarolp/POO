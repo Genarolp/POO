{
  "nbformat": 4,
  "nbformat_minor": 0,
  "metadata": {
    "colab": {
      "provenance": []
    },
    "kernelspec": {
      "name": "python3",
      "display_name": "Python 3"
    },
    "language_info": {
      "name": "python"
    }
  },
  "cells": [
    {
      "cell_type": "markdown",
      "source": [
        "#Manejo de excepciones\n",
        "\n",
        "Las funciones a usar son\n",
        "\n",
        "```\n",
        "#try:\n",
        "  bloque de condicion\n",
        "  except:\n",
        "  bloque de excepciones\n",
        "\n",
        "```\n",
        "\n",
        "Vamos a usar una funcion que se llama `assert`.\n",
        "\n"
      ],
      "metadata": {
        "id": "xLhZLEVlA8NH"
      }
    },
    {
      "cell_type": "code",
      "execution_count": 1,
      "metadata": {
        "id": "mGhYraxgA7KC"
      },
      "outputs": [],
      "source": [
        "def dividir(a, b):\n",
        "    return a / b"
      ]
    },
    {
      "cell_type": "code",
      "source": [
        "#Ejemplo 1\n",
        "a = 5\n",
        "b = 0\n",
        "\n",
        "try:\n",
        "  c = a/b\n",
        "except ZeroDivisionError:\n",
        "    print(\"No se puede dividir entre cero\")"
      ],
      "metadata": {
        "colab": {
          "base_uri": "https://localhost:8080/"
        },
        "id": "i62OGtGZCktR",
        "outputId": "dbf48aff-71fc-49a4-ba81-18faf34d3568"
      },
      "execution_count": 6,
      "outputs": [
        {
          "output_type": "stream",
          "name": "stdout",
          "text": [
            "No se puede dividir entre cero\n"
          ]
        }
      ]
    },
    {
      "cell_type": "code",
      "source": [
        "# Ejemplo 2\n",
        "\n",
        "try:\n",
        "  d = 2 + \"Ceci\"\n",
        "except TypeError:\n",
        "    print(\"No se puede sumar un numero con un texto\")"
      ],
      "metadata": {
        "colab": {
          "base_uri": "https://localhost:8080/"
        },
        "id": "rEC79PwuDsY1",
        "outputId": "eb3b69fe-e7bf-4c89-94ea-740880691f7a"
      },
      "execution_count": 5,
      "outputs": [
        {
          "output_type": "stream",
          "name": "stdout",
          "text": [
            "No se puede sumar un numero con un texto\n"
          ]
        }
      ]
    },
    {
      "cell_type": "code",
      "source": [
        "#Vamos a redifnir nuestra definicion de division\n",
        "\n",
        "def division (a,b):\n",
        "  try:\n",
        "    c = a/b\n",
        "    print (\"Resultado de la division\",c)\n",
        "  except ZeroDivisionError:\n",
        "    print(\"No se puede dividir entre cero\")\n",
        "  except TypeError:\n",
        "    print(\"No se puede dividir un numero con un texto\")"
      ],
      "metadata": {
        "id": "9Yz1Hr7yFh17"
      },
      "execution_count": 14,
      "outputs": []
    },
    {
      "cell_type": "code",
      "source": [
        "division (5,0)"
      ],
      "metadata": {
        "colab": {
          "base_uri": "https://localhost:8080/"
        },
        "id": "P05_kM_vGnqb",
        "outputId": "0e29c69f-8ddf-4f61-dd82-3d69103ab325"
      },
      "execution_count": 7,
      "outputs": [
        {
          "output_type": "stream",
          "name": "stdout",
          "text": [
            "No se puede dividir entre cero\n"
          ]
        }
      ]
    },
    {
      "cell_type": "code",
      "source": [
        "division (2,\"Ceci\")"
      ],
      "metadata": {
        "colab": {
          "base_uri": "https://localhost:8080/"
        },
        "id": "4H5pDPZDGtUf",
        "outputId": "c59dd301-52e3-4e78-dd8c-ad9f2973e601"
      },
      "execution_count": 15,
      "outputs": [
        {
          "output_type": "stream",
          "name": "stdout",
          "text": [
            "No se puede dividir un numero con un texto\n"
          ]
        }
      ]
    },
    {
      "cell_type": "code",
      "source": [
        "division (2,3)"
      ],
      "metadata": {
        "colab": {
          "base_uri": "https://localhost:8080/"
        },
        "id": "DCAcAx0SHCnB",
        "outputId": "06b315d6-f8f2-4ccc-cb69-3ff882863a98"
      },
      "execution_count": 16,
      "outputs": [
        {
          "output_type": "stream",
          "name": "stdout",
          "text": [
            "Resultado de la division 0.6666666666666666\n"
          ]
        }
      ]
    },
    {
      "cell_type": "markdown",
      "source": [
        "##La funcion assert"
      ],
      "metadata": {
        "id": "ujBBgqGHH4fX"
      }
    },
    {
      "cell_type": "code",
      "source": [
        "assert ( 1 == 2)"
      ],
      "metadata": {
        "colab": {
          "base_uri": "https://localhost:8080/",
          "height": 146
        },
        "id": "OMEKJ5gnH8xJ",
        "outputId": "22e263f6-7c24-4c77-b596-344ecaa120a9"
      },
      "execution_count": 17,
      "outputs": [
        {
          "output_type": "error",
          "ename": "AssertionError",
          "evalue": "",
          "traceback": [
            "\u001b[0;31m---------------------------------------------------------------------------\u001b[0m",
            "\u001b[0;31mAssertionError\u001b[0m                            Traceback (most recent call last)",
            "\u001b[0;32m<ipython-input-17-0dc7cbb4a376>\u001b[0m in \u001b[0;36m<cell line: 0>\u001b[0;34m()\u001b[0m\n\u001b[0;32m----> 1\u001b[0;31m \u001b[0;32massert\u001b[0m \u001b[0;34m(\u001b[0m \u001b[0;36m1\u001b[0m \u001b[0;34m==\u001b[0m \u001b[0;36m2\u001b[0m\u001b[0;34m)\u001b[0m\u001b[0;34m\u001b[0m\u001b[0;34m\u001b[0m\u001b[0m\n\u001b[0m",
            "\u001b[0;31mAssertionError\u001b[0m: "
          ]
        }
      ]
    },
    {
      "cell_type": "code",
      "source": [
        "def calcular_media(L):\n",
        "  z = sum(L)/len(L)\n",
        "  return z"
      ],
      "metadata": {
        "id": "SgrDFU5jI5IC"
      },
      "execution_count": 18,
      "outputs": []
    },
    {
      "cell_type": "code",
      "source": [
        "calcular_media([17,19,25.0,-2])"
      ],
      "metadata": {
        "colab": {
          "base_uri": "https://localhost:8080/"
        },
        "id": "4ytPXCP1Juc-",
        "outputId": "5aa59fbf-231f-437b-8624-bcb4d61b4c20"
      },
      "execution_count": 20,
      "outputs": [
        {
          "output_type": "execute_result",
          "data": {
            "text/plain": [
              "14.75"
            ]
          },
          "metadata": {},
          "execution_count": 20
        }
      ]
    },
    {
      "cell_type": "code",
      "source": [
        "assert calcular_media([17,19,25.0,-2]) == 14.75"
      ],
      "metadata": {
        "id": "bNJ4xfnDKAan"
      },
      "execution_count": 25,
      "outputs": []
    },
    {
      "cell_type": "code",
      "source": [],
      "metadata": {
        "id": "dzf18ikJKHUb"
      },
      "execution_count": null,
      "outputs": []
    }
  ]
}