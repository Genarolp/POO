{
  "nbformat": 4,
  "nbformat_minor": 0,
  "metadata": {
    "colab": {
      "provenance": []
    },
    "kernelspec": {
      "name": "python3",
      "display_name": "Python 3"
    },
    "language_info": {
      "name": "python"
    }
  },
  "cells": [
    {
      "cell_type": "markdown",
      "source": [
        "Clases Y herencias\n",
        "\n",
        "Que es una clase ?\n",
        "\n",
        "Es un grupo de funciones"
      ],
      "metadata": {
        "id": "Vuu2cQ8sKvQg"
      }
    },
    {
      "cell_type": "code",
      "source": [
        "class alvaro ():\n",
        "  pass"
      ],
      "metadata": {
        "id": "4dAOe_KcNYLF"
      },
      "execution_count": null,
      "outputs": []
    },
    {
      "cell_type": "code",
      "execution_count": null,
      "metadata": {
        "id": "B8ddYbjrKmvs"
      },
      "outputs": [],
      "source": [
        "  class Alvaro():\n",
        "   def __init__(self,edad,bff,ceci):\n",
        "    self.edad = edad\n",
        "    self.bff = bff\n",
        "    self.ceci = ceci\n",
        "\n",
        "\n",
        "   def alvaro():\n",
        "      print(f\"A los {self.edad} conoci a mi amigo {self.bff}\")\n",
        "\n",
        "   def saludar(self):\n",
        "      print(f\"A los {self.edad} conoci a mi amigo {self.bff}\")\n",
        "\n",
        "   def chisme(self):\n",
        "    print(f\"Estoy en el chisme con {self.bff} y con {self.ceci}\")\n"
      ]
    },
    {
      "cell_type": "code",
      "source": [
        "avo =Alvaro(19,\"Jaume\", \"Ceci\")"
      ],
      "metadata": {
        "id": "iZTIDvDyQ7zG"
      },
      "execution_count": null,
      "outputs": []
    },
    {
      "cell_type": "code",
      "source": [
        "# ¿Cuales son los argumentos de la clase ?\n",
        "\n",
        "avo.edad ,avo.bff"
      ],
      "metadata": {
        "colab": {
          "base_uri": "https://localhost:8080/"
        },
        "id": "EDfoGLPpRibM",
        "outputId": "1b23a84b-aa6c-4972-9b32-da94c922d3ae"
      },
      "execution_count": null,
      "outputs": [
        {
          "output_type": "execute_result",
          "data": {
            "text/plain": [
              "(19, 'Jaume')"
            ]
          },
          "metadata": {},
          "execution_count": 120
        }
      ]
    },
    {
      "cell_type": "code",
      "source": [
        "avo.bff"
      ],
      "metadata": {
        "colab": {
          "base_uri": "https://localhost:8080/",
          "height": 35
        },
        "id": "U6uD1Q4qSm0b",
        "outputId": "34ed9c7a-e0e7-4d0c-dc70-3aee7e5d2d92"
      },
      "execution_count": null,
      "outputs": [
        {
          "output_type": "execute_result",
          "data": {
            "text/plain": [
              "'Jaume'"
            ],
            "application/vnd.google.colaboratory.intrinsic+json": {
              "type": "string"
            }
          },
          "metadata": {},
          "execution_count": 121
        }
      ]
    },
    {
      "cell_type": "code",
      "source": [
        "avo.edad"
      ],
      "metadata": {
        "colab": {
          "base_uri": "https://localhost:8080/"
        },
        "id": "-qsVnrBsVnn-",
        "outputId": "8a60fbdd-2285-437a-a93d-12e987e9b741"
      },
      "execution_count": null,
      "outputs": [
        {
          "output_type": "execute_result",
          "data": {
            "text/plain": [
              "19"
            ]
          },
          "metadata": {},
          "execution_count": 122
        }
      ]
    },
    {
      "cell_type": "code",
      "source": [
        "avo.saludar()"
      ],
      "metadata": {
        "colab": {
          "base_uri": "https://localhost:8080/"
        },
        "id": "ixNlDJzoWcfl",
        "outputId": "2c4d0b1e-1ee4-46a5-8179-51740c829e39"
      },
      "execution_count": null,
      "outputs": [
        {
          "output_type": "stream",
          "name": "stdout",
          "text": [
            "A los 19 conoci a mi amigo Jaume\n"
          ]
        }
      ]
    },
    {
      "cell_type": "code",
      "source": [
        "avo.chisme"
      ],
      "metadata": {
        "colab": {
          "base_uri": "https://localhost:8080/",
          "height": 104
        },
        "id": "YiakQccCWyuU",
        "outputId": "813dea17-d961-48e0-cc9f-f451cd853b61"
      },
      "execution_count": null,
      "outputs": [
        {
          "output_type": "execute_result",
          "data": {
            "text/plain": [
              "<bound method Alvaro.chisme of <__main__.Alvaro object at 0x7c2a0d190e10>>"
            ],
            "text/html": [
              "<div style=\"max-width:800px; border: 1px solid var(--colab-border-color);\"><style>\n",
              "      pre.function-repr-contents {\n",
              "        overflow-x: auto;\n",
              "        padding: 8px 12px;\n",
              "        max-height: 500px;\n",
              "      }\n",
              "\n",
              "      pre.function-repr-contents.function-repr-contents-collapsed {\n",
              "        cursor: pointer;\n",
              "        max-height: 100px;\n",
              "      }\n",
              "    </style>\n",
              "    <pre style=\"white-space: initial; background:\n",
              "         var(--colab-secondary-surface-color); padding: 8px 12px;\n",
              "         border-bottom: 1px solid var(--colab-border-color);\"><b>Alvaro.chisme</b><br/>def chisme()</pre><pre class=\"function-repr-contents function-repr-contents-collapsed\" style=\"\"><a class=\"filepath\" style=\"display:none\" href=\"#\">/content/&lt;ipython-input-116-3b1deae6decb&gt;</a>&lt;no docstring&gt;</pre></div>"
            ]
          },
          "metadata": {},
          "execution_count": 124
        }
      ]
    }
  ]
}